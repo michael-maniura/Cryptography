{
 "cells": [
  {
   "cell_type": "code",
   "execution_count": 1,
   "id": "ruled-unemployment",
   "metadata": {
    "slideshow": {
     "slide_type": "skip"
    }
   },
   "outputs": [],
   "source": [
    "import math\n",
    "import string\n",
    "import itertools\n",
    "from collections import Counter"
   ]
  },
  {
   "cell_type": "markdown",
   "id": "ruled-fundamentals",
   "metadata": {
    "slideshow": {
     "slide_type": "slide"
    }
   },
   "source": [
    "## Skytale-Chiffre\n",
    "\n",
    "$M = M_1 ... M_n$ Klartext\n",
    "<br>\n",
    "$C = C_1 ... C_n$ Geheimtext\n",
    "<br>\n",
    "$B$ Blockgröße\n",
    "<br>\n",
    "$i = \\frac{n}{B}$ Anzahl Zeilen"
   ]
  },
  {
   "cell_type": "markdown",
   "id": "alien-cheese",
   "metadata": {
    "slideshow": {
     "slide_type": "subslide"
    }
   },
   "source": [
    "### Verschlüsselung\n",
    "$A = \\begin{bmatrix}\n",
    "m_{11} & .. & m_{1B}\\\\\n",
    ".. &  & ..\\\\\n",
    "m_{i1} & .. & m_{iB}\n",
    "\\end{bmatrix}$ Klartext in Matrixdarstellung mit $B$ Spalten und $i$ Zeilen\n",
    "<br>\n",
    "\n",
    "$A^T = \\begin{bmatrix}\n",
    "m_{11} & .. & m_{i1}\\\\\n",
    ".. &  & ..\\\\\n",
    "m_{1B} & .. & m_{iB}\n",
    "\\end{bmatrix}$ Klartext in transponierter Matrixdarstellung, welcher Zeilenweise als Geheimtext ausgegeben wird\n",
    "<br>\n",
    "\n",
    "### Entschlüsselung\n",
    "Die Entschlüsselung verläuft analog zur Verschlüsselung allerdings mit einer neuen Blocklänge $B_c = \\frac{n}{B}$ "
   ]
  },
  {
   "cell_type": "code",
   "execution_count": 2,
   "id": "technical-messenger",
   "metadata": {
    "slideshow": {
     "slide_type": "subslide"
    }
   },
   "outputs": [],
   "source": [
    "def scytale_encryption(clear_text, block_size):\n",
    "    # add filling characters if needed\n",
    "    modulo = len(clear_text) % block_size\n",
    "    if(modulo != 0):\n",
    "        clear_text = clear_text + \".\" * (block_size - modulo)\n",
    "            \n",
    "    matrix = list(map(''.join, zip(*[iter(clear_text)]*block_size)))\n",
    "    transposed_matrix = [[matrix[j][i] for j in range(len(matrix))] for i in range(len(matrix[0]))]\n",
    "    \n",
    "    cipher_text = ''.join(str(character) for row in transposed_matrix for character in row)\n",
    "    return cipher_text\n",
    "    \n",
    "def scytale_decryption(cipher_text, block_size):\n",
    "    # calculate new column count\n",
    "    block_size = math.ceil(len(cipher_text) / block_size)\n",
    "    return scytale_encryption(cipher_text, block_size)"
   ]
  },
  {
   "cell_type": "code",
   "execution_count": 3,
   "id": "immediate-gospel",
   "metadata": {
    "slideshow": {
     "slide_type": "skip"
    }
   },
   "outputs": [],
   "source": [
    "cipher_alphabet = {character: index for index, character in enumerate(string.ascii_lowercase)}\n",
    "cipher_alphabet_inverse = {index: character for index, character in enumerate(string.ascii_lowercase)}"
   ]
  },
  {
   "cell_type": "markdown",
   "id": "suburban-westminster",
   "metadata": {
    "slideshow": {
     "slide_type": "slide"
    }
   },
   "source": [
    "## Caesar-Chiffre\n",
    "\n",
    "$M = M_1 ... M_n$ Klartext\n",
    "<br>\n",
    "$C = C_1 ... C_n$ Geheimtext\n",
    "<br>\n",
    "$K$ Schlüssel\n",
    "\n",
    "$E_K(M_i)$ Verschlüsselung\n",
    "<br>\n",
    "$D_K(C_i)$ Entschlüsselung\n",
    "<br>\n",
    "### Verschlüsselung\n",
    "$C_i = E_K(M_i) = (M_i + K)\\ mod\\ 26$\n",
    "### Entschlüsselung\n",
    "$M_i = D_K(C_i) = (C_i - K)\\ mod\\ 26$"
   ]
  },
  {
   "cell_type": "code",
   "execution_count": 4,
   "id": "antique-madrid",
   "metadata": {
    "slideshow": {
     "slide_type": "subslide"
    }
   },
   "outputs": [],
   "source": [
    "def caesar_cipher(clear_text, offset, encrypt):\n",
    "    clear_text = clear_text.lower()\n",
    "    cipher_text = \"\"\n",
    "    \n",
    "    for index,char in enumerate(clear_text):\n",
    "        if char not in string.ascii_lowercase:\n",
    "            cipher_text = cipher_text + char\n",
    "            continue\n",
    "        \n",
    "        clear_index = cipher_alphabet[char]\n",
    "        cipher_index = None\n",
    "        if(encrypt):\n",
    "            cipher_index = (clear_index + offset) % len(cipher_alphabet)\n",
    "        else:\n",
    "            cipher_index = (clear_index - offset) % len(cipher_alphabet)\n",
    "        \n",
    "        cipher_text = cipher_text + cipher_alphabet_inverse[cipher_index]\n",
    "        \n",
    "    return cipher_text\n"
   ]
  },
  {
   "cell_type": "markdown",
   "id": "computational-brave",
   "metadata": {
    "slideshow": {
     "slide_type": "slide"
    }
   },
   "source": [
    "## Vigenère-Chiffre\n",
    "\n",
    "$M = M_1 ... M_n$ Klartext\n",
    "<br>\n",
    "$C = C_1 ... C_n$ Geheimtext\n",
    "<br>\n",
    "$K = K_1 ... K_m$ Schlüssel, welcher $\\frac{n}{m}$ mal wiederholt wird.\n",
    "\n",
    "$E_K(M_i)$ Verschlüsselung\n",
    "<br>\n",
    "$D_K(C_i)$ Entschlüsselung\n",
    "<br>\n",
    "### Verschlüsselung\n",
    "$C_i = E_K(M_i) = (M_i + K_i)\\ mod\\ 26$\n",
    "### Entschlüsselung\n",
    "$M_i = D_K(C_i) = (C_i - K_i)\\ mod\\ 26$"
   ]
  },
  {
   "cell_type": "code",
   "execution_count": 5,
   "id": "disturbed-waterproof",
   "metadata": {
    "slideshow": {
     "slide_type": "subslide"
    }
   },
   "outputs": [],
   "source": [
    "def vigenere_cipher(clear_text, cipher, encrypt):\n",
    "    clear_text = clear_text.lower()\n",
    "    cipher = cipher.lower()\n",
    "    cipher_text = \"\"\n",
    "    \n",
    "    # perform a caesar encryption with an offset specified by an index of the cipher character\n",
    "    for (char, cipher_key) in zip(clear_text,itertools.cycle(cipher)):\n",
    "        cipher_text = cipher_text + caesar_cipher(char, cipher_alphabet[cipher_key], encrypt)\n",
    "    return cipher_text"
   ]
  },
  {
   "cell_type": "markdown",
   "id": "chemical-lloyd",
   "metadata": {
    "slideshow": {
     "slide_type": "slide"
    }
   },
   "source": [
    "## Buchstabenfrequenzanalyse\n",
    "\n",
    "$M = M_1 ... M_n$ Klartext\n",
    "<br>\n",
    "\n",
    "$n$ Anzahl der Zeichen im Text\n",
    "<br>\n",
    "\n",
    "$L$ Buchstabe aus Alphabet\n",
    "<br>\n",
    "\n",
    "$n_L$ Anzahl der Zeichen $L$ im Text $M$\n",
    "<br>\n",
    "\n",
    "$P(L) = \\frac{n}{n_L}$\n"
   ]
  },
  {
   "cell_type": "code",
   "execution_count": 6,
   "id": "racial-crossing",
   "metadata": {
    "slideshow": {
     "slide_type": "subslide"
    }
   },
   "outputs": [],
   "source": [
    "def letter_frequency_analysis(text):\n",
    "    text = text.lower()\n",
    "    text_length = len(text)\n",
    "    counter = Counter(text)\n",
    "    \n",
    "    # fill the 'probabilities' dict with each letter as a key and it's probability in the text\n",
    "    # as the corresponding value\n",
    "    return { character: (lambda character :counter[character] / text_length)(character)\n",
    "            for character in string.ascii_lowercase}  "
   ]
  },
  {
   "cell_type": "markdown",
   "id": "loved-weekly",
   "metadata": {
    "slideshow": {
     "slide_type": "slide"
    }
   },
   "source": [
    "## Caesar-Kryptoanalyse\n",
    "\n",
    "$M = M_1 ... M_n$ Klartext\n",
    "<br>\n",
    "\n",
    "$C = C_1 ... C_n$ Geheimtext\n",
    "<br>\n",
    "\n",
    "$L_C = L$ mit $max(P(L))$ aus $C$ (Zeichen mit größter Wahrscheinlichkeit)\n",
    "<br>\n",
    "$K_C =$ Index von $L_C$ aus Alphabet\n",
    "<br>\n",
    "$L_R =$ Häufigst vorkommender Buchstabe der Referenzsprache\n",
    "<br>\n",
    "$K_R =$ Index von $L_R$ aus Alphabet\n",
    "<br>\n",
    "$K = K_C - K_R$ Für Verschlüsselung verwendeter Offset\n",
    "<br>\n",
    "\n",
    "$M = E_{K}(C)$ \n",
    "<br>\n"
   ]
  },
  {
   "cell_type": "code",
   "execution_count": 7,
   "id": "brazilian-cheat",
   "metadata": {
    "slideshow": {
     "slide_type": "subslide"
    }
   },
   "outputs": [],
   "source": [
    "def caesar_cryptoanalysis(cipher_text, reference_letter_probabilities):\n",
    "    cipher_letter_probabilities = letter_frequency_analysis(cipher_text)\n",
    "    \n",
    "    # sort to get the letter from the cipher text with the highest probability \n",
    "    cipher_letter_propabilities = dict(sorted(cipher_letter_probabilities.items(), key=lambda item: item[1], reverse=True))\n",
    "    \n",
    "    # get the letter from the reference with the highest probability\n",
    "    alphabet_letter_propabilities = dict(sorted(reference_letter_probabilities.items(), key=lambda item: item[1], reverse=True))\n",
    "    \n",
    "    # get the most probable offset \n",
    "    sorted_cipher_key_list = list(cipher_letter_propabilities.keys())\n",
    "    sorted_letter_list = list(alphabet_letter_propabilities.keys())\n",
    "    offset = cipher_alphabet[sorted_cipher_key_list[0]] - cipher_alphabet[sorted_letter_list[0]]\n",
    "    \n",
    "    return(offset)"
   ]
  },
  {
   "cell_type": "markdown",
   "id": "brilliant-fishing",
   "metadata": {
    "slideshow": {
     "slide_type": "slide"
    }
   },
   "source": [
    "## Koinzidenzindex\n",
    "\n",
    "$n_i$ Anzahl der Vorkommnisse des Zeichens $i$ im Text\n",
    "<br>\n",
    "$N$ Anzahl der Zeichen im Text \n",
    "<br>\n",
    "$IC = \\frac{\\sum_{i = A}^{Z} n_i(n_i-1)}{N (N-1)}$"
   ]
  },
  {
   "cell_type": "code",
   "execution_count": 8,
   "id": "intense-regression",
   "metadata": {
    "slideshow": {
     "slide_type": "subslide"
    }
   },
   "outputs": [],
   "source": [
    "# get the specific index of coincidence of a given text \n",
    "def index_of_coincidence(text):\n",
    "    if len(text) == 1:\n",
    "        return 0\n",
    "    \n",
    "    text = text.lower()\n",
    "    text_length = len(text)\n",
    "    counter = Counter(text)\n",
    "    \n",
    "    sum = 0\n",
    "    for letter in string.ascii_lowercase:\n",
    "        letter_count = counter[letter]\n",
    "        sum += letter_count * (letter_count -1)\n",
    "    divisor = (text_length * (text_length-1) )\n",
    "    return sum / divisor\n",
    "    "
   ]
  },
  {
   "cell_type": "code",
   "execution_count": 9,
   "id": "antique-resolution",
   "metadata": {
    "slideshow": {
     "slide_type": "subslide"
    }
   },
   "outputs": [],
   "source": [
    "# calculate the average index of coincidence of text segments for a given cipher length\n",
    "def calculate_index_of_coincidence_per_segment(text, cipher_length):\n",
    "    text_segments = [''] * cipher_length\n",
    "    for ((index, char), cipher_index) in zip(enumerate(text),itertools.cycle(range(0, cipher_length))):\n",
    "        text_segments[cipher_index] += char \n",
    "        \n",
    "    return sum([index_of_coincidence(segment)for segment in text_segments]) / cipher_length"
   ]
  },
  {
   "cell_type": "markdown",
   "id": "greenhouse-animation",
   "metadata": {
    "slideshow": {
     "slide_type": "slide"
    }
   },
   "source": [
    "## Vigenere-Kryptoanalyse\n",
    "\n",
    "\n",
    "$M = M_1 ... M_n$ Klartext\n",
    "<br>\n",
    "\n",
    "$C = C_1 ... C_n$ Geheimtext\n",
    "<br>\n",
    "\n",
    "### Schlüssellänge finden\n",
    "Berechne den durchschnittlichen Koinzidenzindex der einzelnen Textsegmente für Schlüssellängen 1 bis 30\n",
    "und berechne die Differenz zum Koinzidenzindex der verwendeten Sprache.\n",
    "Über den zur Referenz nahesten Koinzidenzindex wird die gesuchte Schlüssellänge ermittelt.\n",
    "\n",
    "\n",
    "### Schlüsselzeichen finden\n",
    "Um jedes Zeichen des Schlüssels zu finden wird die Buchstabenfrequenzanalyse der Caesar-Kryptoanalyse verwendet. \n",
    "<br>\n"
   ]
  },
  {
   "cell_type": "code",
   "execution_count": 10,
   "id": "english-silver",
   "metadata": {
    "slideshow": {
     "slide_type": "subslide"
    }
   },
   "outputs": [],
   "source": [
    "def vigenere_cryptoanalysis(cipher_text, reference_coincidence_index, reference_letter_probabilities):\n",
    "    # find the cipher length by calculating the index of coindicende for various cipher lengths\n",
    "    indices_of_coincidence = {i : calculate_index_of_coincidence_per_segment(cipher_text,i) for i in range(1,30)}\n",
    "    \n",
    "    # select the most probable cipher length\n",
    "    difference_from_reference = {key: abs(indices_of_coincidence[key] - reference_coincidence_index) for key in indices_of_coincidence.keys()}\n",
    "    minimum_difference = min(difference_from_reference.values())\n",
    "    most_probable_length = min(difference_from_reference, key=difference_from_reference.get)\n",
    "    \n",
    "    \n",
    "    # find the key\n",
    "    key = ''\n",
    "    # split text into segments\n",
    "    text_segments = [''] * most_probable_length\n",
    "    for ((index, char), cipher_index) in zip(enumerate(cipher_text),itertools.cycle(range(0, most_probable_length))):\n",
    "        text_segments[cipher_index] += char    \n",
    "    \n",
    "    for text_segment in text_segments:\n",
    "        # perform caesar cryptanalysis for key specific segment\n",
    "        offset = caesar_cryptoanalysis(text_segment, reference_letter_probabilities)\n",
    "        # translate the offsets to keys and add them to the list of probable keys\n",
    "        key += cipher_alphabet_inverse[offset]\n",
    "        \n",
    "    return key"
   ]
  },
  {
   "cell_type": "code",
   "execution_count": 11,
   "id": "cultural-isolation",
   "metadata": {
    "slideshow": {
     "slide_type": "slide"
    }
   },
   "outputs": [],
   "source": [
    "with open(\"bielefeld.txt\", mode=\"r\", encoding=\"utf-8\") as f:\n",
    "    bielefeld_text = f.read()\n",
    "\n",
    "print_length = 100\n",
    "\n",
    "german_coincidence_index = 0.076\n",
    "german_text_letter_probabilities = {\n",
    "        \"e\": 0.1740,\n",
    "        \"n\": 0.0978,\n",
    "        \"i\": 0.0755,\n",
    "        \"s\": 0.0727,\n",
    "        \"r\": 0.0700,\n",
    "        \"a\": 0.0651,\n",
    "        \"t\": 0.0615,\n",
    "        \"d\": 0.0508,\n",
    "        \"h\": 0.0476,\n",
    "        \"u\": 0.0435,\n",
    "        \"l\": 0.0344,\n",
    "        \"c\": 0.0306,\n",
    "        \"g\": 0.0301,\n",
    "        \"m\": 0.0253,\n",
    "        \"o\": 0.0251,\n",
    "        \"b\": 0.0189,\n",
    "        \"w\": 0.0189,\n",
    "        \"f\": 0.0166,\n",
    "        \"k\": 0.0121,\n",
    "        \"z\": 0.0113,\n",
    "        \"p\": 0.0079,\n",
    "        \"v\": 0.0067,\n",
    "        \"ß\": 0.0031,\n",
    "        \"j\": 0.0027,\n",
    "        \"y\": 0.0004,\n",
    "        \"x\": 0.0003,\n",
    "        \"q\": 0.0002,\n",
    "    }\n"
   ]
  },
  {
   "cell_type": "markdown",
   "id": "greater-viking",
   "metadata": {
    "slideshow": {
     "slide_type": "slide"
    }
   },
   "source": [
    "#### Skytale (Test and timing)\n",
    "##### Verschlüsselung (vorher: 277 ms +- 155 ms)"
   ]
  },
  {
   "cell_type": "code",
   "execution_count": 12,
   "id": "processed-eclipse",
   "metadata": {
    "slideshow": {
     "slide_type": "-"
    }
   },
   "outputs": [
    {
     "name": "stdout",
     "output_type": "stream",
     "text": [
      "40.3 ms ± 1.96 ms per loop (mean ± std. dev. of 7 runs, 10 loops each)\n"
     ]
    }
   ],
   "source": [
    "%timeit scytale_encryption(bielefeld_text, 16)"
   ]
  },
  {
   "cell_type": "code",
   "execution_count": 13,
   "id": "permanent-anchor",
   "metadata": {
    "slideshow": {
     "slide_type": "-"
    }
   },
   "outputs": [
    {
     "name": "stdout",
     "output_type": "stream",
     "text": [
      "BlfdileßulNl3nöeeehNld a bsidnB nc.h drs errue dre reeuutaelHnrcn u rdin eni\n",
      "eegrn  eaerez heelleu l\n"
     ]
    }
   ],
   "source": [
    "cipher_text = scytale_encryption(bielefeld_text, 16)\n",
    "print(cipher_text[:print_length])"
   ]
  },
  {
   "cell_type": "markdown",
   "id": "liquid-catalog",
   "metadata": {
    "slideshow": {
     "slide_type": "-"
    }
   },
   "source": [
    "##### Entschlüsselung (vorher: 71.8 ms +- 32.6 ms)"
   ]
  },
  {
   "cell_type": "code",
   "execution_count": 14,
   "id": "convertible-mainland",
   "metadata": {
    "slideshow": {
     "slide_type": "-"
    }
   },
   "outputs": [
    {
     "name": "stdout",
     "output_type": "stream",
     "text": [
      "65.3 ms ± 13.1 ms per loop (mean ± std. dev. of 7 runs, 10 loops each)\n"
     ]
    }
   ],
   "source": [
    "%timeit scytale_decryption(cipher_text, 16)"
   ]
  },
  {
   "cell_type": "code",
   "execution_count": 15,
   "id": "twelve-toronto",
   "metadata": {
    "slideshow": {
     "slide_type": "-"
    }
   },
   "outputs": [
    {
     "name": "stdout",
     "output_type": "stream",
     "text": [
      "Bielefeld  [ˈbiːləfɛlt] (ostwestfälisch Builefeld, Bielefeld, Beilefeld oder Builefeild) ist eine kr\n"
     ]
    }
   ],
   "source": [
    "clear_text = scytale_decryption(cipher_text, 16)\n",
    "print(clear_text[:print_length])"
   ]
  },
  {
   "cell_type": "markdown",
   "id": "perfect-situation",
   "metadata": {
    "slideshow": {
     "slide_type": "slide"
    }
   },
   "source": [
    "#### Caesar (Test and Timing)\n",
    "##### Verschlüsselung (vorher: 248 ms +- 111 ms)"
   ]
  },
  {
   "cell_type": "code",
   "execution_count": 16,
   "id": "excess-capability",
   "metadata": {
    "slideshow": {
     "slide_type": "-"
    }
   },
   "outputs": [
    {
     "name": "stdout",
     "output_type": "stream",
     "text": [
      "88.8 ms ± 11.1 ms per loop (mean ± std. dev. of 7 runs, 10 loops each)\n"
     ]
    }
   ],
   "source": [
    "%timeit caesar_cipher(bielefeld_text, 15, True)"
   ]
  },
  {
   "cell_type": "code",
   "execution_count": 17,
   "id": "diagnostic-juice",
   "metadata": {
    "slideshow": {
     "slide_type": "-"
    }
   },
   "outputs": [
    {
     "name": "stdout",
     "output_type": "stream",
     "text": [
      "qxtatutas  [ˈqxːaəuɛai] (dhilthiuäaxhrw qjxatutas, qxtatutas, qtxatutas dstg qjxatutxas) xhi txct zg\n"
     ]
    }
   ],
   "source": [
    "cipher_text = caesar_cipher(bielefeld_text, 15, True)\n",
    "print(cipher_text[:print_length])"
   ]
  },
  {
   "cell_type": "markdown",
   "id": "descending-karma",
   "metadata": {
    "slideshow": {
     "slide_type": "-"
    }
   },
   "source": [
    "##### Entschlüsselung (vorher: 318 ms +- 143 ms)"
   ]
  },
  {
   "cell_type": "code",
   "execution_count": 18,
   "id": "mineral-mainstream",
   "metadata": {
    "slideshow": {
     "slide_type": "-"
    }
   },
   "outputs": [
    {
     "name": "stdout",
     "output_type": "stream",
     "text": [
      "96.8 ms ± 11.7 ms per loop (mean ± std. dev. of 7 runs, 10 loops each)\n"
     ]
    }
   ],
   "source": [
    "%timeit caesar_cipher(cipher_text, 15, False)"
   ]
  },
  {
   "cell_type": "code",
   "execution_count": 19,
   "id": "international-hardware",
   "metadata": {
    "slideshow": {
     "slide_type": "-"
    }
   },
   "outputs": [
    {
     "name": "stdout",
     "output_type": "stream",
     "text": [
      "bielefeld  [ˈbiːləfɛlt] (ostwestfälisch builefeld, bielefeld, beilefeld oder builefeild) ist eine kr\n"
     ]
    }
   ],
   "source": [
    "clear_text = caesar_cipher(cipher_text, 15, False)\n",
    "print(clear_text[:print_length])"
   ]
  },
  {
   "cell_type": "markdown",
   "id": "exclusive-passion",
   "metadata": {
    "slideshow": {
     "slide_type": "subslide"
    }
   },
   "source": [
    "#### Caesar-Kryptoanalyse (Test and Timing)"
   ]
  },
  {
   "cell_type": "code",
   "execution_count": 20,
   "id": "activated-spotlight",
   "metadata": {
    "slideshow": {
     "slide_type": "-"
    }
   },
   "outputs": [
    {
     "name": "stdout",
     "output_type": "stream",
     "text": [
      "8.96 ms ± 689 µs per loop (mean ± std. dev. of 7 runs, 100 loops each)\n"
     ]
    }
   ],
   "source": [
    "%timeit caesar_cryptoanalysis(cipher_text, german_text_letter_probabilities)"
   ]
  },
  {
   "cell_type": "code",
   "execution_count": 21,
   "id": "central-plenty",
   "metadata": {
    "slideshow": {
     "slide_type": "-"
    }
   },
   "outputs": [
    {
     "name": "stdout",
     "output_type": "stream",
     "text": [
      "The most probable offset for the cipher text is: 15\n"
     ]
    }
   ],
   "source": [
    "deciphered_offset = caesar_cryptoanalysis(cipher_text, german_text_letter_probabilities)\n",
    "print(\"The most probable offset for the cipher text is: {}\".format(deciphered_offset))"
   ]
  },
  {
   "cell_type": "markdown",
   "id": "parliamentary-hardware",
   "metadata": {
    "slideshow": {
     "slide_type": "slide"
    }
   },
   "source": [
    "#### Vigenere\n",
    "##### Verschlüsselung (vorher: 301 ms +- 107 ms)"
   ]
  },
  {
   "cell_type": "code",
   "execution_count": 22,
   "id": "taken-sarah",
   "metadata": {
    "slideshow": {
     "slide_type": "-"
    }
   },
   "outputs": [
    {
     "data": {
      "text/plain": [
       "14"
      ]
     },
     "execution_count": 22,
     "metadata": {},
     "output_type": "execute_result"
    }
   ],
   "source": [
    "vigenere_key = \"Testschluessel\"\n",
    "len(vigenere_key)"
   ]
  },
  {
   "cell_type": "code",
   "execution_count": 23,
   "id": "dominant-player",
   "metadata": {
    "slideshow": {
     "slide_type": "-"
    }
   },
   "outputs": [
    {
     "name": "stdout",
     "output_type": "stream",
     "text": [
      "177 ms ± 13.5 ms per loop (mean ± std. dev. of 7 runs, 10 loops each)\n"
     ]
    }
   ],
   "source": [
    "%timeit vigenere_cipher(bielefeld_text, vigenere_key, True)"
   ]
  },
  {
   "cell_type": "code",
   "execution_count": 24,
   "id": "quiet-liberal",
   "metadata": {
    "slideshow": {
     "slide_type": "-"
    }
   },
   "outputs": [
    {
     "name": "stdout",
     "output_type": "stream",
     "text": [
      "umwewhlwx  [ˈmbːdəxɛse] (gwepikmxästmgz ffbpwywnk, fawppyidw, ipcpwxiww gwwt momdwjpbpv) kze iafi dv\n"
     ]
    }
   ],
   "source": [
    "cipher_text = vigenere_cipher(bielefeld_text, vigenere_key, True)\n",
    "print(cipher_text[:print_length])"
   ]
  },
  {
   "cell_type": "markdown",
   "id": "sized-contamination",
   "metadata": {
    "slideshow": {
     "slide_type": "-"
    }
   },
   "source": [
    "#### Entschlüsselung (vorher: 326 ms +- 133 ms)"
   ]
  },
  {
   "cell_type": "code",
   "execution_count": 25,
   "id": "hairy-arizona",
   "metadata": {
    "slideshow": {
     "slide_type": "-"
    }
   },
   "outputs": [
    {
     "name": "stdout",
     "output_type": "stream",
     "text": [
      "173 ms ± 15.7 ms per loop (mean ± std. dev. of 7 runs, 10 loops each)\n"
     ]
    }
   ],
   "source": [
    "%timeit vigenere_cipher(cipher_text, vigenere_key, False)"
   ]
  },
  {
   "cell_type": "code",
   "execution_count": 26,
   "id": "ahead-hostel",
   "metadata": {
    "slideshow": {
     "slide_type": "-"
    }
   },
   "outputs": [
    {
     "name": "stdout",
     "output_type": "stream",
     "text": [
      "bielefeld  [ˈbiːləfɛlt] (ostwestfälisch builefeld, bielefeld, beilefeld oder builefeild) ist eine kr\n"
     ]
    }
   ],
   "source": [
    "clear_text = vigenere_cipher(cipher_text, vigenere_key, False)\n",
    "print(clear_text[:print_length])"
   ]
  },
  {
   "cell_type": "markdown",
   "id": "natural-lounge",
   "metadata": {
    "slideshow": {
     "slide_type": "subslide"
    }
   },
   "source": [
    "#### Vigenere-Kryptoanalyse (Test and Timing)"
   ]
  },
  {
   "cell_type": "code",
   "execution_count": 27,
   "id": "mysterious-progressive",
   "metadata": {
    "slideshow": {
     "slide_type": "-"
    }
   },
   "outputs": [
    {
     "name": "stdout",
     "output_type": "stream",
     "text": [
      "4.11 s ± 302 ms per loop (mean ± std. dev. of 7 runs, 1 loop each)\n"
     ]
    }
   ],
   "source": [
    "%timeit vigenere_cryptoanalysis(cipher_text, german_coincidence_index, german_text_letter_probabilities)"
   ]
  },
  {
   "cell_type": "code",
   "execution_count": 28,
   "id": "expanded-guidance",
   "metadata": {
    "slideshow": {
     "slide_type": "-"
    }
   },
   "outputs": [
    {
     "name": "stdout",
     "output_type": "stream",
     "text": [
      "The deciphered key for the cipher text is: testschluessel\n"
     ]
    }
   ],
   "source": [
    "deciphered_key = vigenere_cryptoanalysis(cipher_text, german_coincidence_index, german_text_letter_probabilities)\n",
    "print(\"The deciphered key for the cipher text is: \" + deciphered_key)"
   ]
  }
 ],
 "metadata": {
  "celltoolbar": "Slideshow",
  "kernelspec": {
   "display_name": "Python 3",
   "language": "python",
   "name": "python3"
  },
  "language_info": {
   "codemirror_mode": {
    "name": "ipython",
    "version": 3
   },
   "file_extension": ".py",
   "mimetype": "text/x-python",
   "name": "python",
   "nbconvert_exporter": "python",
   "pygments_lexer": "ipython3",
   "version": "3.9.2"
  }
 },
 "nbformat": 4,
 "nbformat_minor": 5
}
